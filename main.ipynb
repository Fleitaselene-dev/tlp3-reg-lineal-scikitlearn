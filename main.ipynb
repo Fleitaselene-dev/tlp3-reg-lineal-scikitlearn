{
 "cells": [
  {
   "cell_type": "markdown",
   "id": "2ee1190c",
   "metadata": {},
   "source": [
    "# Peso  y Estatura de personas \n"
   ]
  },
  {
   "cell_type": "markdown",
   "id": "89d5ec25",
   "metadata": {},
   "source": [
    "### Este dataset es ideal para practicar regresión lineal simple, ya que permite analizar cómo la altura de una persona puede influir en su peso."
   ]
  },
  {
   "cell_type": "markdown",
   "id": "feac1c80",
   "metadata": {},
   "source": [
    "Descripción: Este dataset contiene información sobre la altura y el peso de individuos.\n",
    "\n",
    "* Tamaño: Más de 10,000 registros.\n",
    "\n",
    "Variables:\n",
    "\n",
    "* Variable independiente (x): ``Height` (Altura)\n",
    "\n",
    "* Variable dependiente (y): `Weight` (Peso)"
   ]
  },
  {
   "cell_type": "markdown",
   "id": "a521215b",
   "metadata": {},
   "source": [
    "### Intalacion de dependencias"
   ]
  },
  {
   "cell_type": "code",
   "execution_count": 5,
   "id": "a2ec056b",
   "metadata": {},
   "outputs": [],
   "source": [
    "import pandas as pd \n",
    "import matplotlib.pyplot as plt \n",
    "from sklearn.linear_model import LinearRegression"
   ]
  },
  {
   "cell_type": "markdown",
   "id": "602c0628",
   "metadata": {},
   "source": [
    "### Crear el DataFrame"
   ]
  },
  {
   "cell_type": "code",
   "execution_count": 6,
   "id": "19b18f4e",
   "metadata": {},
   "outputs": [
    {
     "data": {
      "text/html": [
       "<div>\n",
       "<style scoped>\n",
       "    .dataframe tbody tr th:only-of-type {\n",
       "        vertical-align: middle;\n",
       "    }\n",
       "\n",
       "    .dataframe tbody tr th {\n",
       "        vertical-align: top;\n",
       "    }\n",
       "\n",
       "    .dataframe thead th {\n",
       "        text-align: right;\n",
       "    }\n",
       "</style>\n",
       "<table border=\"1\" class=\"dataframe\">\n",
       "  <thead>\n",
       "    <tr style=\"text-align: right;\">\n",
       "      <th></th>\n",
       "      <th>Gender</th>\n",
       "      <th>Height</th>\n",
       "      <th>Weight</th>\n",
       "    </tr>\n",
       "  </thead>\n",
       "  <tbody>\n",
       "    <tr>\n",
       "      <th>0</th>\n",
       "      <td>Male</td>\n",
       "      <td>73.847017</td>\n",
       "      <td>241.893563</td>\n",
       "    </tr>\n",
       "    <tr>\n",
       "      <th>1</th>\n",
       "      <td>Male</td>\n",
       "      <td>68.781904</td>\n",
       "      <td>162.310473</td>\n",
       "    </tr>\n",
       "    <tr>\n",
       "      <th>2</th>\n",
       "      <td>Male</td>\n",
       "      <td>74.110105</td>\n",
       "      <td>212.740856</td>\n",
       "    </tr>\n",
       "    <tr>\n",
       "      <th>3</th>\n",
       "      <td>Male</td>\n",
       "      <td>71.730978</td>\n",
       "      <td>220.042470</td>\n",
       "    </tr>\n",
       "    <tr>\n",
       "      <th>4</th>\n",
       "      <td>Male</td>\n",
       "      <td>69.881796</td>\n",
       "      <td>206.349801</td>\n",
       "    </tr>\n",
       "    <tr>\n",
       "      <th>5</th>\n",
       "      <td>Male</td>\n",
       "      <td>67.253016</td>\n",
       "      <td>152.212156</td>\n",
       "    </tr>\n",
       "    <tr>\n",
       "      <th>6</th>\n",
       "      <td>Male</td>\n",
       "      <td>68.785081</td>\n",
       "      <td>183.927889</td>\n",
       "    </tr>\n",
       "    <tr>\n",
       "      <th>7</th>\n",
       "      <td>Male</td>\n",
       "      <td>68.348516</td>\n",
       "      <td>167.971110</td>\n",
       "    </tr>\n",
       "    <tr>\n",
       "      <th>8</th>\n",
       "      <td>Male</td>\n",
       "      <td>67.018950</td>\n",
       "      <td>175.929440</td>\n",
       "    </tr>\n",
       "    <tr>\n",
       "      <th>9</th>\n",
       "      <td>Male</td>\n",
       "      <td>63.456494</td>\n",
       "      <td>156.399676</td>\n",
       "    </tr>\n",
       "    <tr>\n",
       "      <th>10</th>\n",
       "      <td>Male</td>\n",
       "      <td>71.195382</td>\n",
       "      <td>186.604926</td>\n",
       "    </tr>\n",
       "    <tr>\n",
       "      <th>11</th>\n",
       "      <td>Male</td>\n",
       "      <td>71.640805</td>\n",
       "      <td>213.741169</td>\n",
       "    </tr>\n",
       "    <tr>\n",
       "      <th>12</th>\n",
       "      <td>Male</td>\n",
       "      <td>64.766329</td>\n",
       "      <td>167.127461</td>\n",
       "    </tr>\n",
       "    <tr>\n",
       "      <th>13</th>\n",
       "      <td>Male</td>\n",
       "      <td>69.283070</td>\n",
       "      <td>189.446181</td>\n",
       "    </tr>\n",
       "    <tr>\n",
       "      <th>14</th>\n",
       "      <td>Male</td>\n",
       "      <td>69.243732</td>\n",
       "      <td>186.434168</td>\n",
       "    </tr>\n",
       "    <tr>\n",
       "      <th>15</th>\n",
       "      <td>Male</td>\n",
       "      <td>67.645620</td>\n",
       "      <td>172.186930</td>\n",
       "    </tr>\n",
       "    <tr>\n",
       "      <th>16</th>\n",
       "      <td>Male</td>\n",
       "      <td>72.418317</td>\n",
       "      <td>196.028506</td>\n",
       "    </tr>\n",
       "    <tr>\n",
       "      <th>17</th>\n",
       "      <td>Male</td>\n",
       "      <td>63.974326</td>\n",
       "      <td>172.883470</td>\n",
       "    </tr>\n",
       "    <tr>\n",
       "      <th>18</th>\n",
       "      <td>Male</td>\n",
       "      <td>69.640060</td>\n",
       "      <td>185.983958</td>\n",
       "    </tr>\n",
       "    <tr>\n",
       "      <th>19</th>\n",
       "      <td>Male</td>\n",
       "      <td>67.936005</td>\n",
       "      <td>182.426648</td>\n",
       "    </tr>\n",
       "    <tr>\n",
       "      <th>20</th>\n",
       "      <td>Male</td>\n",
       "      <td>67.915050</td>\n",
       "      <td>174.115929</td>\n",
       "    </tr>\n",
       "    <tr>\n",
       "      <th>21</th>\n",
       "      <td>Male</td>\n",
       "      <td>69.439440</td>\n",
       "      <td>197.731422</td>\n",
       "    </tr>\n",
       "    <tr>\n",
       "      <th>22</th>\n",
       "      <td>Male</td>\n",
       "      <td>66.149132</td>\n",
       "      <td>149.173566</td>\n",
       "    </tr>\n",
       "    <tr>\n",
       "      <th>23</th>\n",
       "      <td>Male</td>\n",
       "      <td>75.205974</td>\n",
       "      <td>228.761781</td>\n",
       "    </tr>\n",
       "    <tr>\n",
       "      <th>24</th>\n",
       "      <td>Male</td>\n",
       "      <td>67.893196</td>\n",
       "      <td>162.006652</td>\n",
       "    </tr>\n",
       "  </tbody>\n",
       "</table>\n",
       "</div>"
      ],
      "text/plain": [
       "   Gender     Height      Weight\n",
       "0    Male  73.847017  241.893563\n",
       "1    Male  68.781904  162.310473\n",
       "2    Male  74.110105  212.740856\n",
       "3    Male  71.730978  220.042470\n",
       "4    Male  69.881796  206.349801\n",
       "5    Male  67.253016  152.212156\n",
       "6    Male  68.785081  183.927889\n",
       "7    Male  68.348516  167.971110\n",
       "8    Male  67.018950  175.929440\n",
       "9    Male  63.456494  156.399676\n",
       "10   Male  71.195382  186.604926\n",
       "11   Male  71.640805  213.741169\n",
       "12   Male  64.766329  167.127461\n",
       "13   Male  69.283070  189.446181\n",
       "14   Male  69.243732  186.434168\n",
       "15   Male  67.645620  172.186930\n",
       "16   Male  72.418317  196.028506\n",
       "17   Male  63.974326  172.883470\n",
       "18   Male  69.640060  185.983958\n",
       "19   Male  67.936005  182.426648\n",
       "20   Male  67.915050  174.115929\n",
       "21   Male  69.439440  197.731422\n",
       "22   Male  66.149132  149.173566\n",
       "23   Male  75.205974  228.761781\n",
       "24   Male  67.893196  162.006652"
      ]
     },
     "execution_count": 6,
     "metadata": {},
     "output_type": "execute_result"
    }
   ],
   "source": [
    "train = pd.read_csv('weight-height.csv')\n",
    "train.head(25)"
   ]
  },
  {
   "cell_type": "markdown",
   "id": "34b250f2",
   "metadata": {},
   "source": [
    "### Obtengo la informacion general del DataFrame"
   ]
  },
  {
   "cell_type": "code",
   "execution_count": 7,
   "id": "cf77666b",
   "metadata": {},
   "outputs": [
    {
     "name": "stdout",
     "output_type": "stream",
     "text": [
      "<class 'pandas.core.frame.DataFrame'>\n",
      "RangeIndex: 10000 entries, 0 to 9999\n",
      "Data columns (total 3 columns):\n",
      " #   Column  Non-Null Count  Dtype  \n",
      "---  ------  --------------  -----  \n",
      " 0   Gender  10000 non-null  object \n",
      " 1   Height  10000 non-null  float64\n",
      " 2   Weight  10000 non-null  float64\n",
      "dtypes: float64(2), object(1)\n",
      "memory usage: 234.5+ KB\n"
     ]
    }
   ],
   "source": [
    "train.info()"
   ]
  },
  {
   "cell_type": "markdown",
   "id": "eb5ada46",
   "metadata": {},
   "source": [
    "### Visualizar las Dimensiones del DataFrame"
   ]
  },
  {
   "cell_type": "code",
   "execution_count": 9,
   "id": "3fa8c6f1",
   "metadata": {},
   "outputs": [
    {
     "data": {
      "text/plain": [
       "(10000, 3)"
      ]
     },
     "execution_count": 9,
     "metadata": {},
     "output_type": "execute_result"
    }
   ],
   "source": [
    "train.shape"
   ]
  },
  {
   "cell_type": "markdown",
   "id": "b7e69718",
   "metadata": {},
   "source": [
    "### Visualizar y verificar si existen valores Nulos"
   ]
  },
  {
   "cell_type": "code",
   "execution_count": 10,
   "id": "e2fad7e6",
   "metadata": {},
   "outputs": [
    {
     "data": {
      "text/plain": [
       "Gender    0\n",
       "Height    0\n",
       "Weight    0\n",
       "dtype: int64"
      ]
     },
     "execution_count": 10,
     "metadata": {},
     "output_type": "execute_result"
    }
   ],
   "source": [
    "train.isnull().sum()"
   ]
  },
  {
   "cell_type": "markdown",
   "id": "20d46e4a",
   "metadata": {},
   "source": [
    "### Verificar si existen datos duplicados"
   ]
  },
  {
   "cell_type": "code",
   "execution_count": 11,
   "id": "57cc317c",
   "metadata": {},
   "outputs": [
    {
     "data": {
      "text/plain": [
       "np.int64(0)"
      ]
     },
     "execution_count": 11,
     "metadata": {},
     "output_type": "execute_result"
    }
   ],
   "source": [
    "train.duplicated().sum()\n"
   ]
  }
 ],
 "metadata": {
  "kernelspec": {
   "display_name": "env",
   "language": "python",
   "name": "python3"
  },
  "language_info": {
   "codemirror_mode": {
    "name": "ipython",
    "version": 3
   },
   "file_extension": ".py",
   "mimetype": "text/x-python",
   "name": "python",
   "nbconvert_exporter": "python",
   "pygments_lexer": "ipython3",
   "version": "3.13.2"
  }
 },
 "nbformat": 4,
 "nbformat_minor": 5
}
