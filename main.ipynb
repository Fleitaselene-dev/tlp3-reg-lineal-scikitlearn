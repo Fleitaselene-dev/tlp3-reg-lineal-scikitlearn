{
 "cells": [
  {
   "cell_type": "markdown",
   "id": "2ee1190c",
   "metadata": {},
   "source": [
    "# Peso  y Estatura de personas \n"
   ]
  },
  {
   "cell_type": "markdown",
   "id": "89d5ec25",
   "metadata": {},
   "source": [
    "### Este dataset es ideal para practicar regresión lineal simple, ya que permite analizar cómo la altura de una persona puede influir en su peso."
   ]
  },
  {
   "cell_type": "markdown",
   "id": "feac1c80",
   "metadata": {},
   "source": [
    "Descripción: Este dataset contiene información sobre la altura y el peso de individuos.\n",
    "\n",
    "* Tamaño: Más de 10,000 registros.\n",
    "\n",
    "Variables:\n",
    "\n",
    "* Variable independiente (x): ``Height` (Altura)\n",
    "\n",
    "* Variable dependiente (y): `Weight` (Peso)"
   ]
  },
  {
   "cell_type": "markdown",
   "id": "a521215b",
   "metadata": {},
   "source": [
    "### Intalacion de dependencias"
   ]
  },
  {
   "cell_type": "code",
   "execution_count": null,
   "id": "a2ec056b",
   "metadata": {
    "vscode": {
     "languageId": "plaintext"
    }
   },
   "outputs": [],
   "source": [
    "import pandas as pd \n",
    "import matplolit.pyplot as plt \n",
    "from sklearn.linear_model import LinearRegression"
   ]
  }
 ],
 "metadata": {
  "language_info": {
   "name": "python"
  }
 },
 "nbformat": 4,
 "nbformat_minor": 5
}
